{
 "cells": [
  {
   "cell_type": "code",
   "execution_count": null,
   "metadata": {
    "id": "2RoMZhTj7Psf"
   },
   "outputs": [],
   "source": [
    "# отключим лишние предупреждения \n",
    "import warnings\n",
    "warnings.simplefilter('ignore')\n",
    "\n",
    "# для отображения графиков\n",
    "%matplotlib inline\n",
    "import seaborn as sns\n",
    "import matplotlib.pyplot as plt\n",
    "%config InlineBackend.figure_format = 'svg' \n",
    "\n",
    "#увеличим размер графиков по сравнению со стандратным\n",
    "from pylab import rcParams\n",
    "rcParams['figure.figsize'] = 8, 5\n",
    "import pandas as pd"
   ]
  },
  {
   "cell_type": "markdown",
   "metadata": {
    "id": "NpuocMep7Pso"
   },
   "source": [
    "Создадим `dataframe` с данными. При создании оставим только строки, которые не содержат пропущенных значений."
   ]
  },
  {
   "cell_type": "code",
   "execution_count": null,
   "metadata": {
    "id": "K0AtSeLP7Pso",
    "outputId": "95e3a8e5-2474-4930-98a1-27e6c1a89058"
   },
   "outputs": [],
   "source": [
    "df = pd.read_csv('data/fb_m_data.csv').dropna()\n",
    "print(df.shape)"
   ]
  },
  {
   "cell_type": "code",
   "execution_count": null,
   "metadata": {
    "colab": {
     "base_uri": "https://localhost:8080/"
    },
    "executionInfo": {
     "elapsed": 594,
     "status": "ok",
     "timestamp": 1615116540067,
     "user": {
      "displayName": "Пятернёв Иван",
      "photoUrl": "https://lh3.googleusercontent.com/a-/AOh14Gj1Bivm7vPMLx8pp2bEGBRKy6jrvaEDN9w2Dv0uHA=s64",
      "userId": "00579581272515352504"
     },
     "user_tz": -180
    },
    "id": "-5ISdud67Psq",
    "outputId": "107d5c5a-e417-417c-c0d8-f964898bb54b"
   },
   "outputs": [],
   "source": [
    "13*13 - 8 * 16\n"
   ]
  },
  {
   "cell_type": "markdown",
   "metadata": {
    "id": "_Z4szkMC7Psr"
   },
   "source": [
    "Всего в таблице 761 объект и 15 признаков для них. Посмотрим на несколько первых записей c помощью `head`. Оставим только те признаки, которые мы будем в дальнейшем использовать."
   ]
  },
  {
   "cell_type": "code",
   "execution_count": null,
   "metadata": {
    "id": "kyy7T3Mg7Psr",
    "outputId": "279442b6-ea50-4332-8b28-9fb6bebe3239"
   },
   "outputs": [],
   "source": [
    "df.head()"
   ]
  },
  {
   "cell_type": "code",
   "execution_count": null,
   "metadata": {
    "id": "k_KTlSNe7Pss",
    "outputId": "02202f33-e3a1-48b6-8f09-e1dfca8acc0f"
   },
   "outputs": [],
   "source": [
    "useful_cols = ['ad_id', 'campaign_id', 'fb_campaign_id', 'age', \n",
    "               'gender', 'interest1', 'interest2',\n",
    "               'interest3', 'clicks', 'spent', 'total_conversion',\n",
    "               'approved_conversion'\n",
    "              ]\n",
    "df[useful_cols].head()"
   ]
  },
  {
   "cell_type": "markdown",
   "metadata": {
    "id": "uSIF6nty7Pst"
   },
   "source": [
    "Прежде чем мы перейдем к изучению методов библиотек `seaborn` и `plotly`, попробуем самый простой и зачастую удобный способ визуализировать данные из `dataframe` — это воспользоваться функцией `plot`. Посчитаем среднее время, которое пользователь потратил просматривая рекламные сообщения в каждой из кампаний. "
   ]
  },
  {
   "cell_type": "code",
   "execution_count": null,
   "metadata": {
    "id": "pQtUPCfH7Pst",
    "outputId": "dd89454d-52dc-4540-f0e6-cad4245da0aa"
   },
   "outputs": [],
   "source": [
    "df[['campaign_id', 'spent']].groupby('campaign_id').mean().plot()"
   ]
  },
  {
   "cell_type": "markdown",
   "metadata": {
    "id": "yqXcvdgD7Psu"
   },
   "source": [
    "Но получившийся график не очень наглядный, сменим тип графика"
   ]
  },
  {
   "cell_type": "code",
   "execution_count": null,
   "metadata": {
    "id": "B7An51x27Psu",
    "outputId": "37cf0207-f6fa-47cb-8467-3eac24de3018"
   },
   "outputs": [],
   "source": [
    "df[['campaign_id', 'spent']].groupby('campaign_id').mean().plot(kind='bar', rot=45)"
   ]
  },
  {
   "cell_type": "markdown",
   "metadata": {
    "id": "z1iUBjfK7Psv"
   },
   "source": [
    "Посмотрим теперь на библиотеку для визуализации seaborn. \n",
    "\n",
    "Познакомимся с таким типом графиков как pair plot. Эта визуализация поможет нам посмотреть на одной картинке, как связаны между собой различные признаки."
   ]
  },
  {
   "cell_type": "code",
   "execution_count": null,
   "metadata": {
    "id": "SPUfbhKV7Psv",
    "outputId": "16dc3aac-dc4b-4cbb-8b87-c4881f7b190d"
   },
   "outputs": [],
   "source": [
    "# c svg pairplot браузер начинает тормозить\n",
    "%config InlineBackend.figure_format = 'png' \n",
    "sns.pairplot(df[['clicks', 'spent', 'total_conversion', \n",
    "                 'approved_conversion']])"
   ]
  },
  {
   "cell_type": "markdown",
   "metadata": {
    "id": "5a2Y5Ua87Psv"
   },
   "source": [
    "Также с помощью `seaborn` можно построить распределение, для примера посмотрим на распределение потраченного времени `spent`. Для этого построим __`distplot`__. "
   ]
  },
  {
   "cell_type": "code",
   "execution_count": null,
   "metadata": {
    "id": "HQb7RMDl7Psw",
    "outputId": "cbede91b-9c3d-407f-cce8-2c45cde708cf"
   },
   "outputs": [],
   "source": [
    "%config InlineBackend.figure_format = 'svg' \n",
    "sns.distplot(df['total_conversion'])"
   ]
  },
  {
   "cell_type": "markdown",
   "metadata": {
    "id": "ScmCNFxn7Psw"
   },
   "source": [
    "Для того чтобы подробнее посмотреть на взаимосвязь двух численных признаков, есть еще и `joint_plot` – это гибрид `scatter plot` и `histogram`. "
   ]
  },
  {
   "cell_type": "code",
   "execution_count": null,
   "metadata": {
    "id": "HY3v9fgW7Psx",
    "outputId": "c02c6eb2-f902-4739-92ba-fae1abb916d6"
   },
   "outputs": [],
   "source": [
    "sns.jointplot(x='spent', y='total_conversion', data=df, kind='scatter')"
   ]
  },
  {
   "cell_type": "markdown",
   "metadata": {
    "id": "R43JIJE77Psy"
   },
   "source": [
    "И еще один тип графиков (последний из тех, которые мы рассмотрим в этой статье) - это `heat map`. Heat map позволяет посмотреть на распределение какого-то численного признака по двум категориальным."
   ]
  },
  {
   "cell_type": "code",
   "execution_count": null,
   "metadata": {
    "id": "Xt8FCxos7Psy"
   },
   "outputs": [],
   "source": [
    "age_gender_conversion = df.pivot_table(\n",
    "                        index='gender', \n",
    "                        columns='age', \n",
    "                        values='total_conversion', \n",
    "                        aggfunc=sum).fillna(0).applymap(float)"
   ]
  },
  {
   "cell_type": "code",
   "execution_count": null,
   "metadata": {
    "id": "YWi_sk507Psy",
    "outputId": "37ea4564-2157-441d-b05f-7b00b12a6923"
   },
   "outputs": [],
   "source": [
    "sns.heatmap(age_gender_conversion, annot=True, fmt=\".1f\", linewidths=.5)"
   ]
  },
  {
   "cell_type": "code",
   "execution_count": null,
   "metadata": {
    "id": "nY4GortU7Psz"
   },
   "outputs": [],
   "source": []
  },
  {
   "cell_type": "code",
   "execution_count": null,
   "metadata": {},
   "outputs": [],
   "source": []
  },
  {
   "cell_type": "code",
   "execution_count": null,
   "metadata": {},
   "outputs": [],
   "source": []
  }
 ],
 "metadata": {
  "colab": {
   "name": "visualization.ipynb",
   "provenance": []
  },
  "kernelspec": {
   "display_name": "Python 3 (ipykernel)",
   "language": "python",
   "name": "python3"
  },
  "language_info": {
   "codemirror_mode": {
    "name": "ipython",
    "version": 3
   },
   "file_extension": ".py",
   "mimetype": "text/x-python",
   "name": "python",
   "nbconvert_exporter": "python",
   "pygments_lexer": "ipython3",
   "version": "3.9.6"
  }
 },
 "nbformat": 4,
 "nbformat_minor": 1
}
