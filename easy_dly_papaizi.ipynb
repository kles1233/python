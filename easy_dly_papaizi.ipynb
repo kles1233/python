{
 "cells": [
  {
   "cell_type": "code",
   "execution_count": null,
   "id": "22eb92b6",
   "metadata": {},
   "outputs": [],
   "source": [
    "# отключим лишние предупреждения \n",
    "import warnings\n",
    "warnings.simplefilter('ignore')\n",
    "\n",
    "# для отображения графиков\n",
    "%matplotlib inline\n",
    "import seaborn as sns\n",
    "import matplotlib.pyplot as plt\n",
    "%config InlineBackend.figure_format = 'svg' \n",
    "\n",
    "#увеличим размер графиков по сравнению со стандратным\n",
    "from pylab import rcParams\n",
    "rcParams['figure.figsize'] = 8, 5\n",
    "import pandas as pd"
   ]
  },
  {
   "cell_type": "code",
   "execution_count": null,
   "id": "6432778c",
   "metadata": {},
   "outputs": [],
   "source": [
    "pd.read_csv('C:/python/titanic.csv', sep='\\t', error_bad_lines=False)\n",
    "data = pd.read_csv('C:/python/titanic.csv').dropna() #убирает пустые строки\"!!!!!!!!!!!!!!!!!!!!!!!!!!!!!!!!!!!!!!!!!!!!!\n"
   ]
  },
  {
   "cell_type": "code",
   "execution_count": null,
   "id": "5cc3021e",
   "metadata": {},
   "outputs": [],
   "source": [
    "data.head()"
   ]
  },
  {
   "cell_type": "code",
   "execution_count": null,
   "id": "d09b90a4",
   "metadata": {},
   "outputs": [],
   "source": [
    "data.describe()"
   ]
  },
  {
   "cell_type": "code",
   "execution_count": null,
   "id": "2cdfdb45",
   "metadata": {},
   "outputs": [],
   "source": [
    "data.sort_values('Fare', ascending = False).head()"
   ]
  },
  {
   "cell_type": "code",
   "execution_count": null,
   "id": "aaeb81f4",
   "metadata": {},
   "outputs": [],
   "source": [
    "def age_category(fuck):\n",
    "    i = int(0)\n",
    "    #age = fuck\n",
    "    a = int(len(fuck))             \n",
    "    for i in range(0,a,1):\n",
    "        if(fuck[i] < 18):\n",
    "            fuck[i] = 0\n",
    "        elif(18 <= fuck[i] < 30):\n",
    "            fuck[i] = 1   \n",
    "        elif(30 <= fuck[i] < 50):\n",
    "            fuck[i] = 2\n",
    "        else:\n",
    "            fuck[i] = 3           \n",
    "    \n",
    "    for i in range(0,a,1):\n",
    "        print(fuck[i])\n",
    "        \n",
    "        \n",
    "    return(fuck)"
   ]
  },
  {
   "cell_type": "code",
   "execution_count": null,
   "id": "c0c18ebf",
   "metadata": {
    "scrolled": true
   },
   "outputs": [],
   "source": [
    "for i in data['Age'].shape:\n",
    "        #age_categories =[pd.Series(data['Age'])]\n",
    "        fuck = data['Age'].to_list()\n",
    "        age_categories = age_category(fuck)"
   ]
  },
  {
   "cell_type": "code",
   "execution_count": null,
   "id": "faafda24",
   "metadata": {},
   "outputs": [],
   "source": []
  },
  {
   "cell_type": "code",
   "execution_count": null,
   "id": "7c9b7881",
   "metadata": {},
   "outputs": [],
   "source": [
    "for i in data['Age'].shape:\n",
    "    data['age_category'] = age_categories"
   ]
  },
  {
   "cell_type": "code",
   "execution_count": null,
   "id": "cd2eeffa",
   "metadata": {},
   "outputs": [],
   "source": []
  },
  {
   "cell_type": "code",
   "execution_count": null,
   "id": "3ec6ef63",
   "metadata": {},
   "outputs": [],
   "source": [
    "data.head(10)"
   ]
  },
  {
   "cell_type": "code",
   "execution_count": null,
   "id": "b051bd10",
   "metadata": {},
   "outputs": [],
   "source": [
    "\n"
   ]
  },
  {
   "cell_type": "code",
   "execution_count": null,
   "id": "69afef17",
   "metadata": {},
   "outputs": [],
   "source": [
    "# Сколько мужчин / женщин находилось на борту?"
   ]
  },
  {
   "cell_type": "code",
   "execution_count": null,
   "id": "03bba4e6",
   "metadata": {},
   "outputs": [],
   "source": []
  },
  {
   "cell_type": "code",
   "execution_count": null,
   "id": "5345c8b6",
   "metadata": {},
   "outputs": [],
   "source": [
    "df = data['Sex'].value_counts()\n"
   ]
  },
  {
   "cell_type": "code",
   "execution_count": null,
   "id": "79a257ac",
   "metadata": {
    "scrolled": true
   },
   "outputs": [],
   "source": [
    "df.head()"
   ]
  },
  {
   "cell_type": "code",
   "execution_count": null,
   "id": "efaabea8",
   "metadata": {},
   "outputs": [],
   "source": []
  },
  {
   "cell_type": "code",
   "execution_count": null,
   "id": "fe6342c6",
   "metadata": {},
   "outputs": [],
   "source": [
    "# Правда ли, что люди моложе 30 лет выживали чаще, чем люди старше 50 лет? Посчитайте\n",
    "# число выживших в обеих группах и общее число людей в этих группах?"
   ]
  },
  {
   "cell_type": "code",
   "execution_count": null,
   "id": "9bd04282",
   "metadata": {},
   "outputs": [],
   "source": []
  },
  {
   "cell_type": "code",
   "execution_count": null,
   "id": "c40b08c9",
   "metadata": {},
   "outputs": [],
   "source": [
    "data.groupby(pd.cut(data.Age, [0, 30, 61, 130], right=False))['Survived'].mean().mul(100)"
   ]
  },
  {
   "cell_type": "code",
   "execution_count": null,
   "id": "a52864f1",
   "metadata": {},
   "outputs": [],
   "source": []
  },
  {
   "cell_type": "markdown",
   "id": "676eaf6d",
   "metadata": {},
   "source": [
    "1. Каково соотношение погибших и выживших в зависимости от пола?\n"
   ]
  },
  {
   "cell_type": "code",
   "execution_count": null,
   "id": "30d3245a",
   "metadata": {},
   "outputs": [],
   "source": [
    "useful_cols = ['Sex', 'Survived']"
   ]
  },
  {
   "cell_type": "code",
   "execution_count": null,
   "id": "48192392",
   "metadata": {},
   "outputs": [],
   "source": [
    "data[useful_cols].head()"
   ]
  },
  {
   "cell_type": "code",
   "execution_count": null,
   "id": "cb5def61",
   "metadata": {},
   "outputs": [],
   "source": [
    "%config InlineBackend.figure_format = 'svg' \n",
    "pd.crosstab(data['Sex'], data['Survived'])"
   ]
  },
  {
   "cell_type": "code",
   "execution_count": null,
   "id": "9da61262",
   "metadata": {},
   "outputs": [],
   "source": [
    "sns.countplot(x=\"Sex\", hue=\"Survived\", data=data);"
   ]
  },
  {
   "cell_type": "code",
   "execution_count": null,
   "id": "67b55ba9",
   "metadata": {},
   "outputs": [],
   "source": []
  },
  {
   "cell_type": "code",
   "execution_count": null,
   "id": "750ed6fc",
   "metadata": {},
   "outputs": [],
   "source": []
  },
  {
   "cell_type": "markdown",
   "id": "f7c9e835",
   "metadata": {},
   "source": [
    "2. Каково соотношение погибших и выживших в зависимости от класса\n",
    "каюты?"
   ]
  },
  {
   "cell_type": "code",
   "execution_count": null,
   "id": "bb186aaa",
   "metadata": {},
   "outputs": [],
   "source": [
    "%config InlineBackend.figure_format = 'svg' \n",
    "pd.crosstab(data['Survived'], data['Pclass'])"
   ]
  },
  {
   "cell_type": "code",
   "execution_count": null,
   "id": "d659f656",
   "metadata": {},
   "outputs": [],
   "source": [
    "sns.countplot(x=\"Pclass\", hue=\"Survived\", data=data);"
   ]
  },
  {
   "cell_type": "code",
   "execution_count": null,
   "id": "c661cea1",
   "metadata": {},
   "outputs": [],
   "source": []
  },
  {
   "cell_type": "code",
   "execution_count": null,
   "id": "b162e7b5",
   "metadata": {},
   "outputs": [],
   "source": []
  },
  {
   "cell_type": "code",
   "execution_count": null,
   "id": "47834154",
   "metadata": {},
   "outputs": [],
   "source": []
  },
  {
   "cell_type": "code",
   "execution_count": null,
   "id": "5f3a87d0",
   "metadata": {},
   "outputs": [],
   "source": [
    "3. Как факт выживания зависит от возраста пассажира? Графически\n",
    "проверьте гипотезу, что молодые выживали чаще пожилых (границы\n",
    "были даны в прошлом задании)"
   ]
  },
  {
   "cell_type": "code",
   "execution_count": null,
   "id": "106b991b",
   "metadata": {},
   "outputs": [],
   "source": [
    "data.groupby(pd.cut(data.Age, [0, 30, 61, 130], right=False))['Survived'].mean().mul(100).plot(kind='bar', rot=45)"
   ]
  },
  {
   "cell_type": "code",
   "execution_count": null,
   "id": "6089168c",
   "metadata": {},
   "outputs": [],
   "source": []
  },
  {
   "cell_type": "code",
   "execution_count": null,
   "id": "320f9726",
   "metadata": {},
   "outputs": [],
   "source": []
  },
  {
   "cell_type": "markdown",
   "id": "700ece67",
   "metadata": {},
   "source": [
    "4. Постройте попарные зависимости признаков Age, Fare, Pclass, Sex, SibSp,\n",
    "Parch, Embarked и Survived. (метод scatter_matrix в модуле pandas или\n",
    "pairplot Seaborn)\n"
   ]
  },
  {
   "cell_type": "code",
   "execution_count": null,
   "id": "f8fffac0",
   "metadata": {},
   "outputs": [],
   "source": [
    "%config InlineBackend.figure_format = 'png' \n",
    "sns.pairplot(data[['Survived', 'Age', 'Fare', \n",
    "                       'Pclass', 'Sex', 'SibSp', \n",
    "                       'Parch', 'Embarked']]);"
   ]
  },
  {
   "cell_type": "code",
   "execution_count": null,
   "id": "3db19855",
   "metadata": {},
   "outputs": [],
   "source": []
  }
 ],
 "metadata": {
  "kernelspec": {
   "display_name": "Python 3 (ipykernel)",
   "language": "python",
   "name": "python3"
  },
  "language_info": {
   "codemirror_mode": {
    "name": "ipython",
    "version": 3
   },
   "file_extension": ".py",
   "mimetype": "text/x-python",
   "name": "python",
   "nbconvert_exporter": "python",
   "pygments_lexer": "ipython3",
   "version": "3.9.6"
  }
 },
 "nbformat": 4,
 "nbformat_minor": 5
}
